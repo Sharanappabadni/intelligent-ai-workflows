{
 "cells": [
  {
   "cell_type": "markdown",
   "id": "1ebb3c83",
   "metadata": {},
   "source": [
    "# LangChain: Memory\n",
    "\n",
    "## Outline\n",
    "* ConversationBufferMemory\n",
    "* ConversationBufferWindowMemory\n",
    "* ConversationTokenBufferMemory\n",
    "* ConversationSummaryMemory"
   ]
  },
  {
   "cell_type": "markdown",
   "id": "c7b5b75e",
   "metadata": {},
   "source": [
    "## ConversationBufferMemory"
   ]
  },
  {
   "cell_type": "code",
   "execution_count": null,
   "id": "3708ef13",
   "metadata": {},
   "outputs": [],
   "source": [
    "import os\n",
    "os.environ[\"GOOGLE_API_KEY\"] = \"YPUR TOKEN\""
   ]
  },
  {
   "cell_type": "code",
   "execution_count": 2,
   "id": "e69f06ae",
   "metadata": {},
   "outputs": [
    {
     "name": "stderr",
     "output_type": "stream",
     "text": [
      "c:\\Users\\sharan.badni\\OneDrive - H-Ilabs\\Documents\\csv_validator\\.venv\\Lib\\site-packages\\tqdm\\auto.py:21: TqdmWarning: IProgress not found. Please update jupyter and ipywidgets. See https://ipywidgets.readthedocs.io/en/stable/user_install.html\n",
      "  from .autonotebook import tqdm as notebook_tqdm\n"
     ]
    },
    {
     "name": "stdout",
     "output_type": "stream",
     "text": [
      "Learning patterns from data to make predictions.\n"
     ]
    }
   ],
   "source": [
    "from langchain_google_genai import ChatGoogleGenerativeAI\n",
    "\n",
    "llm = ChatGoogleGenerativeAI(\n",
    "    model=\"gemini-1.5-flash\",\n",
    "    temperature=0.7\n",
    ")\n",
    "\n",
    "response = llm.invoke(\"Explain how AI works in a few words\")\n",
    "print(response.content)"
   ]
  },
  {
   "cell_type": "code",
   "execution_count": 3,
   "id": "d40c0898",
   "metadata": {},
   "outputs": [],
   "source": [
    "from langchain.chat_models import ChatOpenAI\n",
    "from langchain.chains import ConversationChain\n",
    "from langchain.memory import ConversationBufferMemory"
   ]
  },
  {
   "cell_type": "code",
   "execution_count": 4,
   "id": "8385a4c6",
   "metadata": {},
   "outputs": [
    {
     "name": "stderr",
     "output_type": "stream",
     "text": [
      "C:\\Users\\sharan.badni\\AppData\\Local\\Temp\\ipykernel_15160\\2199615446.py:1: LangChainDeprecationWarning: Please see the migration guide at: https://python.langchain.com/docs/versions/migrating_memory/\n",
      "  memory = ConversationBufferMemory(return_messages=True)\n",
      "C:\\Users\\sharan.badni\\AppData\\Local\\Temp\\ipykernel_15160\\2199615446.py:2: LangChainDeprecationWarning: The class `ConversationChain` was deprecated in LangChain 0.2.7 and will be removed in 1.0. Use :class:`~langchain_core.runnables.history.RunnableWithMessageHistory` instead.\n",
      "  convesation = ConversationChain(llm=llm, memory=memory)\n"
     ]
    },
    {
     "data": {
      "text/plain": [
       "\"Sure, Sharan!  I've got a few jokes in my database.  How about this one?\\n\\nWhy don't scientists trust atoms? \\n\\nBecause they make up everything!\\n\\n\\nI hope you enjoyed that one.  I have access to many more jokes, including knock-knocks, puns, and even some longer, more complex jokes if you'd prefer.  Let me know what kind of humor you're in the mood for, or if you'd like to hear another joke from a different category.  My joke database is categorized by type, length, and even the general sentiment (e.g., silly, sarcastic, dark humor – though I try to avoid anything offensive).\""
      ]
     },
     "execution_count": 4,
     "metadata": {},
     "output_type": "execute_result"
    }
   ],
   "source": [
    "memory = ConversationBufferMemory(return_messages=True)\n",
    "convesation = ConversationChain(llm=llm, memory=memory)\n",
    "\n",
    "convesation.predict(input=\"Hi! I'm Sharan.\")\n",
    "convesation.predict(input=\"Can you tell me a joke?\")"
   ]
  },
  {
   "cell_type": "code",
   "execution_count": 5,
   "id": "cb6597a0",
   "metadata": {},
   "outputs": [
    {
     "data": {
      "text/plain": [
       "'Your name is Sharan.  You told me that at the beginning of our conversation.'"
      ]
     },
     "execution_count": 5,
     "metadata": {},
     "output_type": "execute_result"
    }
   ],
   "source": [
    "convesation.predict(input=\"what is my name?\")"
   ]
  },
  {
   "cell_type": "markdown",
   "id": "0ea32b34",
   "metadata": {},
   "source": [
    "## 2. ConversationBufferWindowMemory\n",
    " * Keeps only the last k interactions."
   ]
  },
  {
   "cell_type": "code",
   "execution_count": 7,
   "id": "1aff12c9",
   "metadata": {},
   "outputs": [
    {
     "name": "stdout",
     "output_type": "stream",
     "text": [
      "\n",
      "\n",
      "\u001b[1m> Entering new ConversationChain chain...\u001b[0m\n",
      "Prompt after formatting:\n",
      "\u001b[32;1m\u001b[1;3mThe following is a friendly conversation between a human and an AI. The AI is talkative and provides lots of specific details from its context. If the AI does not know the answer to a question, it truthfully says it does not know.\n",
      "\n",
      "Current conversation:\n",
      "[]\n",
      "Human: I live in India\n",
      "AI:\u001b[0m\n",
      "\n",
      "\u001b[1m> Finished chain.\u001b[0m\n",
      "That's interesting! India is a vast and diverse country.  Is there a particular part of India you live in? Knowing the state or even the general region would help me understand your context better.  For example, are you near the Himalayas, in a bustling city like Mumbai or Delhi, or perhaps in a more rural area?  Knowing your location would help me tailor our conversation and perhaps offer relevant information or insights.  I'm curious to learn more about your experiences living there!\n",
      "\n",
      "\n",
      "\u001b[1m> Entering new ConversationChain chain...\u001b[0m\n",
      "Prompt after formatting:\n",
      "\u001b[32;1m\u001b[1;3mThe following is a friendly conversation between a human and an AI. The AI is talkative and provides lots of specific details from its context. If the AI does not know the answer to a question, it truthfully says it does not know.\n",
      "\n",
      "Current conversation:\n",
      "[HumanMessage(content='I live in India', additional_kwargs={}, response_metadata={}), AIMessage(content=\"That's interesting! India is a vast and diverse country.  Is there a particular part of India you live in? Knowing the state or even the general region would help me understand your context better.  For example, are you near the Himalayas, in a bustling city like Mumbai or Delhi, or perhaps in a more rural area?  Knowing your location would help me tailor our conversation and perhaps offer relevant information or insights.  I'm curious to learn more about your experiences living there!\", additional_kwargs={}, response_metadata={})]\n",
      "Human: I live in India.\n",
      "AI:\u001b[0m\n",
      "\n",
      "\u001b[1m> Finished chain.\u001b[0m\n",
      "That's interesting! India is a vast and diverse country.  Is there a particular part of India you live in? Knowing the state or even the general region would help me understand your context better.  For example, are you near the Himalayas, in a bustling city like Mumbai or Delhi, or perhaps in a more rural area?  Knowing your location would help me tailor our conversation and perhaps offer relevant information or insights.  I'm curious to learn more about your experiences living there!  Perhaps you could tell me about your favorite aspects of living in India, or even some challenges you face.  I understand that many people in India experience a vibrant cultural life, delicious food, and a strong sense of community.  However, I also know that there can be challenges related to things like infrastructure, pollution, or economic disparity.  I'm eager to hear your perspective, whatever it may be.  Just knowing the general area you live in would be a great start!\n",
      "\n",
      "\n",
      "\u001b[1m> Entering new ConversationChain chain...\u001b[0m\n",
      "Prompt after formatting:\n",
      "\u001b[32;1m\u001b[1;3mThe following is a friendly conversation between a human and an AI. The AI is talkative and provides lots of specific details from its context. If the AI does not know the answer to a question, it truthfully says it does not know.\n",
      "\n",
      "Current conversation:\n",
      "[HumanMessage(content='I live in India', additional_kwargs={}, response_metadata={}), AIMessage(content=\"That's interesting! India is a vast and diverse country.  Is there a particular part of India you live in? Knowing the state or even the general region would help me understand your context better.  For example, are you near the Himalayas, in a bustling city like Mumbai or Delhi, or perhaps in a more rural area?  Knowing your location would help me tailor our conversation and perhaps offer relevant information or insights.  I'm curious to learn more about your experiences living there!\", additional_kwargs={}, response_metadata={}), HumanMessage(content='I live in India.', additional_kwargs={}, response_metadata={}), AIMessage(content=\"That's interesting! India is a vast and diverse country.  Is there a particular part of India you live in? Knowing the state or even the general region would help me understand your context better.  For example, are you near the Himalayas, in a bustling city like Mumbai or Delhi, or perhaps in a more rural area?  Knowing your location would help me tailor our conversation and perhaps offer relevant information or insights.  I'm curious to learn more about your experiences living there!  Perhaps you could tell me about your favorite aspects of living in India, or even some challenges you face.  I understand that many people in India experience a vibrant cultural life, delicious food, and a strong sense of community.  However, I also know that there can be challenges related to things like infrastructure, pollution, or economic disparity.  I'm eager to hear your perspective, whatever it may be.  Just knowing the general area you live in would be a great start!\", additional_kwargs={}, response_metadata={})]\n",
      "Human: My favorite sport is cricket.\n",
      "AI:\u001b[0m\n",
      "\n",
      "\u001b[1m> Finished chain.\u001b[0m\n",
      "That's great! Cricket is incredibly popular in India, and I can see why it would be your favorite sport.  It's practically a national pastime!  I have access to a vast amount of data on cricket, and I can tell you that India has a rich and storied history in the sport, with many legendary players and incredibly passionate fans.  \n",
      "\n",
      "Are you a fan of any particular team, like the Mumbai Indians, Chennai Super Kings, or perhaps a different team from the Indian Premier League (IPL)? Or do you prefer following the Indian national team?  I could tell you about some recent matches, interesting statistics, or even some of the history of the sport in India if you'd like.  Perhaps you even play cricket yourself?  I'd love to hear more about your passion for the game!\n",
      "\n",
      "\n",
      "\u001b[1m> Entering new ConversationChain chain...\u001b[0m\n",
      "Prompt after formatting:\n",
      "\u001b[32;1m\u001b[1;3mThe following is a friendly conversation between a human and an AI. The AI is talkative and provides lots of specific details from its context. If the AI does not know the answer to a question, it truthfully says it does not know.\n",
      "\n",
      "Current conversation:\n",
      "[HumanMessage(content='I live in India.', additional_kwargs={}, response_metadata={}), AIMessage(content=\"That's interesting! India is a vast and diverse country.  Is there a particular part of India you live in? Knowing the state or even the general region would help me understand your context better.  For example, are you near the Himalayas, in a bustling city like Mumbai or Delhi, or perhaps in a more rural area?  Knowing your location would help me tailor our conversation and perhaps offer relevant information or insights.  I'm curious to learn more about your experiences living there!  Perhaps you could tell me about your favorite aspects of living in India, or even some challenges you face.  I understand that many people in India experience a vibrant cultural life, delicious food, and a strong sense of community.  However, I also know that there can be challenges related to things like infrastructure, pollution, or economic disparity.  I'm eager to hear your perspective, whatever it may be.  Just knowing the general area you live in would be a great start!\", additional_kwargs={}, response_metadata={}), HumanMessage(content='My favorite sport is cricket.', additional_kwargs={}, response_metadata={}), AIMessage(content=\"That's great! Cricket is incredibly popular in India, and I can see why it would be your favorite sport.  It's practically a national pastime!  I have access to a vast amount of data on cricket, and I can tell you that India has a rich and storied history in the sport, with many legendary players and incredibly passionate fans.  \\n\\nAre you a fan of any particular team, like the Mumbai Indians, Chennai Super Kings, or perhaps a different team from the Indian Premier League (IPL)? Or do you prefer following the Indian national team?  I could tell you about some recent matches, interesting statistics, or even some of the history of the sport in India if you'd like.  Perhaps you even play cricket yourself?  I'd love to hear more about your passion for the game!\", additional_kwargs={}, response_metadata={})]\n",
      "Human: What’s my favorite sport?\n",
      "AI:\u001b[0m\n",
      "\n",
      "\u001b[1m> Finished chain.\u001b[0m\n",
      "Your favorite sport is cricket.\n",
      "\n",
      "\n",
      "\u001b[1m> Entering new ConversationChain chain...\u001b[0m\n",
      "Prompt after formatting:\n",
      "\u001b[32;1m\u001b[1;3mThe following is a friendly conversation between a human and an AI. The AI is talkative and provides lots of specific details from its context. If the AI does not know the answer to a question, it truthfully says it does not know.\n",
      "\n",
      "Current conversation:\n",
      "[HumanMessage(content='My favorite sport is cricket.', additional_kwargs={}, response_metadata={}), AIMessage(content=\"That's great! Cricket is incredibly popular in India, and I can see why it would be your favorite sport.  It's practically a national pastime!  I have access to a vast amount of data on cricket, and I can tell you that India has a rich and storied history in the sport, with many legendary players and incredibly passionate fans.  \\n\\nAre you a fan of any particular team, like the Mumbai Indians, Chennai Super Kings, or perhaps a different team from the Indian Premier League (IPL)? Or do you prefer following the Indian national team?  I could tell you about some recent matches, interesting statistics, or even some of the history of the sport in India if you'd like.  Perhaps you even play cricket yourself?  I'd love to hear more about your passion for the game!\", additional_kwargs={}, response_metadata={}), HumanMessage(content='What’s my favorite sport?', additional_kwargs={}, response_metadata={}), AIMessage(content='Your favorite sport is cricket.', additional_kwargs={}, response_metadata={})]\n",
      "Human: Where do I live?\n",
      "AI:\u001b[0m\n",
      "\n",
      "\u001b[1m> Finished chain.\u001b[0m\n",
      "I do not know where you live.  You haven't told me that information.\n"
     ]
    }
   ],
   "source": [
    "from langchain.memory import ConversationBufferWindowMemory\n",
    "memory = ConversationBufferWindowMemory(k=2, return_messages=True)\n",
    "conversation = ConversationChain(llm=llm, memory=memory, verbose=True)\n",
    "\n",
    "print(conversation.predict(input=\"I live in India\"))\n",
    "print(conversation.predict(input=\"I live in India.\"))\n",
    "print(conversation.predict(input=\"My favorite sport is cricket.\"))\n",
    "print(conversation.predict(input=\"What’s my favorite sport?\"))\n",
    "print(conversation.predict(input=\"Where do I live?\"))  # may forget if outside window"
   ]
  },
  {
   "cell_type": "markdown",
   "id": "db49b404",
   "metadata": {},
   "source": [
    "## 3. ConversationTokenBufferMemory\n",
    "\n",
    "Keeps history but capped by token count (useful for long chats)."
   ]
  },
  {
   "cell_type": "code",
   "execution_count": null,
   "id": "8c055d42",
   "metadata": {},
   "outputs": [
    {
     "name": "stderr",
     "output_type": "stream",
     "text": [
      "C:\\Users\\sharan.badni\\AppData\\Local\\Temp\\ipykernel_15160\\202626805.py:3: LangChainDeprecationWarning: Please see the migration guide at: https://python.langchain.com/docs/versions/migrating_memory/\n",
      "  memory = ConversationTokenBufferMemory(\n"
     ]
    },
    {
     "name": "stdout",
     "output_type": "stream",
     "text": [
      "\n",
      "\n",
      "\u001b[1m> Entering new ConversationChain chain...\u001b[0m\n",
      "Prompt after formatting:\n",
      "\u001b[32;1m\u001b[1;3mThe following is a friendly conversation between a human and an AI. The AI is talkative and provides lots of specific details from its context. If the AI does not know the answer to a question, it truthfully says it does not know.\n",
      "\n",
      "Current conversation:\n",
      "[]\n",
      "Human: I like pizza.\n",
      "AI:\u001b[0m\n",
      "\n",
      "\u001b[1m> Finished chain.\u001b[0m\n",
      "That's great!  Pizza is incredibly popular, and for good reason.  There's just something about that combination of warm, chewy dough, melted cheese, and flavorful toppings that's universally appealing.  Do you have a favorite type of pizza?  I've accessed information on thousands of pizza recipes, from the classic Margherita with its simple San Marzano tomatoes, fresh mozzarella, and basil, to more adventurous combinations like Hawaiian (pineapple and ham – a controversial choice, I know!),  BBQ chicken, or even something as unique as a fig and prosciutto pizza.  What are your preferences?  Thick crust or thin?  Do you prefer a simple cheese pizza or something more elaborate?  I'm particularly fascinated by the regional variations; Chicago deep-dish, New York thin crust, Neapolitan... each with its own distinct characteristics.  Tell me more about your pizza preferences!\n",
      "\n",
      "\n",
      "\u001b[1m> Entering new ConversationChain chain...\u001b[0m\n",
      "Prompt after formatting:\n",
      "\u001b[32;1m\u001b[1;3mThe following is a friendly conversation between a human and an AI. The AI is talkative and provides lots of specific details from its context. If the AI does not know the answer to a question, it truthfully says it does not know.\n",
      "\n",
      "Current conversation:\n",
      "[]\n",
      "Human: I also enjoy pasta.\n",
      "AI:\u001b[0m\n",
      "\n",
      "\u001b[1m> Finished chain.\u001b[0m\n",
      "Oh, pasta!  That's fantastic!  What kinds of pasta do you enjoy? I have access to a vast database of recipes and I've learned about countless variations.  Do you prefer something simple like a classic aglio e olio (garlic and olive oil), or something richer like a creamy carbonara?  Perhaps you're a fan of fresh pasta, like tagliatelle or ravioli?  And what about the sauce?  Do you lean towards tomato-based sauces, or maybe something creamier, or perhaps a pesto? I'm particularly fond of the subtle nuances of a good pesto alla genovese, with its fresh basil, pine nuts, and Parmesan cheese.  Tell me more about your pasta preferences!\n",
      "\n",
      "\n",
      "\u001b[1m> Entering new ConversationChain chain...\u001b[0m\n",
      "Prompt after formatting:\n",
      "\u001b[32;1m\u001b[1;3mThe following is a friendly conversation between a human and an AI. The AI is talkative and provides lots of specific details from its context. If the AI does not know the answer to a question, it truthfully says it does not know.\n",
      "\n",
      "Current conversation:\n",
      "[]\n",
      "Human: What foods do I like?\n",
      "AI:\u001b[0m\n",
      "\n",
      "\u001b[1m> Finished chain.\u001b[0m\n",
      "I do not know what foods you like.  I have no access to personal information about you unless you have explicitly provided it to me during our current conversation. To tell you what foods you like, I would need that information.  For example, you could tell me \"I love spicy Thai food and anything with chocolate.\"  Then I could tell you that you like spicy Thai food and chocolate.\n"
     ]
    }
   ],
   "source": [
    "from langchain.memory import ConversationTokenBufferMemory\n",
    "\n",
    "memory = ConversationTokenBufferMemory(\n",
    "    llm = llm,\n",
    "    max_token_limit=100,\n",
    "    return_messages=True\n",
    ")\n",
    "\n",
    "conversation = ConversationChain(llm=llm, memory=memory, verbose=True)\n",
    "\n",
    "print(conversation.predict(input=\"I like pizza.\"))\n",
    "print(conversation.predict(input=\"I also enjoy pasta.\"))\n",
    "print(conversation.predict(input=\"What foods do I like?\"))\n",
    "\n",
    "#👉 Old messages get dropped once token budget is exceeded."
   ]
  },
  {
   "cell_type": "markdown",
   "id": "6d5225f5",
   "metadata": {},
   "source": [
    "## 4. ConversationSummaryMemory\n",
    "\n",
    "Keeps a summary of past chats instead of storing all text."
   ]
  },
  {
   "cell_type": "code",
   "execution_count": 9,
   "id": "01e761c1",
   "metadata": {},
   "outputs": [
    {
     "name": "stderr",
     "output_type": "stream",
     "text": [
      "C:\\Users\\sharan.badni\\AppData\\Local\\Temp\\ipykernel_15160\\3371170345.py:3: LangChainDeprecationWarning: Please see the migration guide at: https://python.langchain.com/docs/versions/migrating_memory/\n",
      "  memory = ConversationSummaryMemory(llm=llm, return_messages=True)\n"
     ]
    },
    {
     "name": "stdout",
     "output_type": "stream",
     "text": [
      "\n",
      "\n",
      "\u001b[1m> Entering new ConversationChain chain...\u001b[0m\n",
      "Prompt after formatting:\n",
      "\u001b[32;1m\u001b[1;3mThe following is a friendly conversation between a human and an AI. The AI is talkative and provides lots of specific details from its context. If the AI does not know the answer to a question, it truthfully says it does not know.\n",
      "\n",
      "Current conversation:\n",
      "[SystemMessage(content='', additional_kwargs={}, response_metadata={})]\n",
      "Human: I went to Goa last weekend\n",
      "AI:\u001b[0m\n",
      "\n",
      "\u001b[1m> Finished chain.\u001b[0m\n",
      "Oh, Goa! That's fantastic!  I've processed a vast amount of information about Goa, and it sounds like a wonderful place to spend a weekend. Was it your first time there?  I'm curious – what did you do? Did you relax on the beaches?  Perhaps you visited some of the historical sites like Old Goa, with its churches like the Basilica of Bom Jesus and Se Cathedral?  Or maybe you explored the spice plantations?  I know there are many options for watersports too, from parasailing to jet skiing.  And of course, the food!  Did you try any Goan fish curry? Or perhaps some Bebinca?  I'd love to hear all about your trip! Tell me everything!\n",
      "\n",
      "\n",
      "\u001b[1m> Entering new ConversationChain chain...\u001b[0m\n",
      "Prompt after formatting:\n",
      "\u001b[32;1m\u001b[1;3mThe following is a friendly conversation between a human and an AI. The AI is talkative and provides lots of specific details from its context. If the AI does not know the answer to a question, it truthfully says it does not know.\n",
      "\n",
      "Current conversation:\n",
      "[SystemMessage(content='The human tells the AI they went to Goa last weekend. The AI expresses excitement and asks the human to describe their trip, mentioning various potential activities and sights in Goa such as beaches, historical sites (including churches like the Basilica of Bom Jesus and Se Cathedral), spice plantations, watersports, and Goan food (like fish curry and Bebinca).', additional_kwargs={}, response_metadata={})]\n",
      "Human: I enjoyed the beaches and seafood\n",
      "AI:\u001b[0m\n",
      "\n",
      "\u001b[1m> Finished chain.\u001b[0m\n",
      "Oh, fantastic! Goa's beaches are truly something special.  Were you on the more popular ones like Calangute, Baga, or Palolem?  Or did you venture to some of the quieter, more secluded stretches of sand? I'm curious about the seafood you had! Did you try the Goan fish curry?  It's incredibly flavorful, often cooked with coconut milk and a blend of spices.  Or perhaps you sampled some prawns or lobster?  I've read that the seafood is incredibly fresh in Goa, directly from the boats.  Tell me more about your beach experiences and the delicious seafood you savored!  Did you swim in the ocean, sunbathe, or simply relax and enjoy the view?\n",
      "\n",
      "\n",
      "\u001b[1m> Entering new ConversationChain chain...\u001b[0m\n",
      "Prompt after formatting:\n",
      "\u001b[32;1m\u001b[1;3mThe following is a friendly conversation between a human and an AI. The AI is talkative and provides lots of specific details from its context. If the AI does not know the answer to a question, it truthfully says it does not know.\n",
      "\n",
      "Current conversation:\n",
      "[SystemMessage(content='The human tells the AI they went to Goa last weekend and enjoyed the beaches and seafood. The AI expresses excitement, inquiring about specific beaches visited (popular ones like Calangute, Baga, or Palolem, or quieter ones), the types of seafood consumed (Goan fish curry, prawns, lobster, etc.), and details about the beach experience (swimming, sunbathing, relaxing).  The AI highlights the freshness of Goan seafood and the flavorful nature of the Goan fish curry.', additional_kwargs={}, response_metadata={})]\n",
      "Human: What did I tell you about my weekend?\n",
      "AI:\u001b[0m\n",
      "\n",
      "\u001b[1m> Finished chain.\u001b[0m\n",
      "You told me you spent last weekend in Goa and had a wonderful time enjoying the beaches and the seafood.  You didn't specify which beaches you visited, leaving me eager to hear if you went to popular spots like Calangute, Baga, or Palolem, or perhaps discovered some quieter, less crowded gems.  I'm also curious about the seafood you ate!  Did you try the famous Goan fish curry?  Perhaps some delicious prawns or even lobster? I'm particularly interested in the details of your beach experience – did you swim in the ocean, spend time sunbathing, or simply relax and soak up the atmosphere?  I know Goan seafood is incredibly fresh, and the Goan fish curry is renowned for its rich and flavorful spices. I'm excited to hear more about your trip!\n"
     ]
    }
   ],
   "source": [
    "from langchain.memory import ConversationSummaryMemory\n",
    "\n",
    "memory = ConversationSummaryMemory(llm=llm, return_messages=True)\n",
    "conversation = ConversationChain(llm=llm, memory=memory, verbose=True)\n",
    "\n",
    "print(conversation.predict(input=\"I went to Goa last weekend\"))\n",
    "print(conversation.predict(input=\"I enjoyed the beaches and seafood\"))\n",
    "print(conversation.predict(input=\"What did I tell you about my weekend?\"))\n",
    "\n",
    "#👉 Instead of replaying full chat, it summarizes:"
   ]
  },
  {
   "cell_type": "code",
   "execution_count": 10,
   "id": "5722712a",
   "metadata": {},
   "outputs": [
    {
     "data": {
      "text/plain": [
       "{'history': [SystemMessage(content='The human told the AI about their weekend trip to Goa, highlighting the enjoyment of the beaches and seafood. The AI responded by enthusiastically requesting specifics about the beaches visited (popular or secluded), the types of seafood consumed (mentioning Goan fish curry, prawns, and lobster as examples), and details of the beach activities (swimming, sunbathing, relaxing).  The AI reiterated the freshness of Goan seafood and the flavorful reputation of the Goan fish curry, expressing excitement to learn more about the trip.  The human then asked the AI what it remembered about their weekend, prompting the AI to summarize the conversation accurately, again expressing its interest in further details.', additional_kwargs={}, response_metadata={})]}"
      ]
     },
     "execution_count": 10,
     "metadata": {},
     "output_type": "execute_result"
    }
   ],
   "source": [
    "memory.load_memory_variables({})"
   ]
  },
  {
   "cell_type": "code",
   "execution_count": null,
   "id": "922d95e7",
   "metadata": {},
   "outputs": [],
   "source": []
  }
 ],
 "metadata": {
  "kernelspec": {
   "display_name": ".venv",
   "language": "python",
   "name": "python3"
  },
  "language_info": {
   "codemirror_mode": {
    "name": "ipython",
    "version": 3
   },
   "file_extension": ".py",
   "mimetype": "text/x-python",
   "name": "python",
   "nbconvert_exporter": "python",
   "pygments_lexer": "ipython3",
   "version": "3.13.3"
  }
 },
 "nbformat": 4,
 "nbformat_minor": 5
}
